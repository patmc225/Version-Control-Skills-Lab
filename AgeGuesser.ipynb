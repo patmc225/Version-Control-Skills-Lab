{
 "cells": [
  {
   "cell_type": "code",
   "execution_count": null,
   "metadata": {},
   "outputs": [],
   "source": [
    "#Asks the user for their name\n",
    "name = input(\"Please enter your name:\")\n",
    "print(\"Hello\",name)\n",
    "\n",
    "#Asks the user for their birthyear and declines any response that isn't an int\n",
    "birthday = \"\"\n",
    "while(type(birthday) != int):\n",
    "        try: birthday = int(input(\"What year were you born?\"))\n",
    "        except: birthday = int(input(\"Error. What year were you born?\"))\n",
    "\n",
    "#Declines any response that isn't Y or N\n",
    "question = \"\"\n",
    "while(question != \"Y\" and question != \"N\"):\n",
    "        question = input(\"Have you had your birthday this year?(Y/N)\")\n",
    "\n",
    "#Prints response and subtracts a year if the user's birthday has not happened this year yet\n",
    "if(question == \"Y\"): print(name,\"you are\", 2023-birthday, \"years old\")\n",
    "else: print(name,\"you are\", 2023-birthday-1 , \"years old\")\n",
    "    "
    "#Prints how old the person would be in 2100 from their age that is taken from the input\n",
    "print(\"If you impossibly lived until 2100, you would be\", (2100-birthday))\n",
    "    "
   ]
  }
 ],
 "metadata": {
  "kernelspec": {
   "display_name": "Python 3",
   "language": "python",
   "name": "python3"
  },
  "language_info": {
   "codemirror_mode": {
    "name": "ipython",
    "version": 3
   },
   "file_extension": ".py",
   "mimetype": "text/x-python",
   "name": "python",
   "nbconvert_exporter": "python",
   "pygments_lexer": "ipython3",
   "version": "3.8.3"
  }
 },
 "nbformat": 4,
 "nbformat_minor": 4
}
